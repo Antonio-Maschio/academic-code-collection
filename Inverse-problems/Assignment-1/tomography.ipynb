{
 "cells": [
  {
   "cell_type": "code",
   "execution_count": 29,
   "metadata": {},
   "outputs": [],
   "source": [
    "import numpy as np\n",
    "import matplotlib.pyplot as plt\n",
    "import seaborn as sns\n",
    "\n",
    "class tomography_sim: \n",
    "    def __init__(self, lx=13, lz=11, N_detectors=24, velocity_free_=5.0, velocity_obst_=5.2):\n",
    "        self.lx = lx\n",
    "        self.lz = lz\n",
    "        self.velocity_free = velocity_free_\n",
    "        self.velocity_obst = velocity_obst_\n",
    "        self.ndetectors = N_detectors\n",
    "\n",
    "        self.v_lat = np.zeros((lx, lz))  # Lattice\n",
    "        self.v_obst = np.zeros((lz, lx))  # Obstacles grid\n",
    "\n",
    "    def generate_obstacles(self,shape= \"rectangle\"):\n",
    "        \"\"\"\n",
    "        Generate obstacles in the grid\n",
    "        \"\"\"\n",
    "        # Create a rectangular obstacle\n",
    "        if shape == \"rectangle\":\n",
    "\n",
    "            self.v_obst[1:9, 4:7] = 1\n",
    "            return self.v_obst\n",
    "        if shape == \"delta\":\n",
    "            self.v_obst[2, 6] = 1\n",
    "\n",
    "    def calculate_s(self, n_obst):\n",
    "        \"\"\"\n",
    "        Calculate the anomaly for a given number of obstacles intersected\n",
    "        \"\"\"\n",
    "        if n_obst > 1:\n",
    "            return (n_obst - 1) * (1 / self.velocity_free - 1 / self.velocity_obst) * np.sqrt(2)\n",
    "        else:\n",
    "            return 0\n",
    "\n",
    "    def calculate_anomalies(self):\n",
    "        \"\"\"\n",
    "        Calculate arrival time anomalies for all detectors\n",
    "        \"\"\"\n",
    "        anomalies = []\n",
    "        for x in range(1, 13):  # Detectors x=1 to x=11\n",
    "            # Each detector detects rays in diagonal directions\n",
    "            anomalies_for_detector = []\n",
    "            if x==1:\n",
    "                n_obst_lr = self.count_obstacles_on_path(x, z_start=0, direction=1)\n",
    "                anomaly_lr = self.calculate_s(n_obst_lr)\n",
    "                anomalies_for_detector.append(anomaly_lr)\n",
    "                # print(n_obst_lr,\"hereee 1\")\n",
    "                # print(anomaly_lr,\"hereee 1\")\n",
    "            elif x==12:\n",
    "                # Right-to-left diagonal (1 slope)\n",
    "                n_obst_rl = self.count_obstacles_on_path(x, z_start=0, direction=-1)\n",
    "                anomaly_rl = self.calculate_s(n_obst_rl)\n",
    "                # print(n_obst_rl,\"hereee 12\")\n",
    "                # print(anomaly_rl,\"hereee 12\")\n",
    "\n",
    "                anomalies_for_detector.append(anomaly_rl)\n",
    "                \n",
    "\n",
    "            else:\n",
    "                # Left-to-right diagonal (-1 slope)\n",
    "                n_obst_lr = self.count_obstacles_on_path(x, z_start=0, direction=1)\n",
    "                anomaly_lr = self.calculate_s(n_obst_lr)\n",
    "                anomalies_for_detector.append(anomaly_lr)\n",
    "\n",
    "                # Right-to-left diagonal (1 slope)\n",
    "                n_obst_rl = self.count_obstacles_on_path(x, z_start=0, direction=-1)\n",
    "                anomaly_rl = self.calculate_s(n_obst_rl)\n",
    "                anomalies_for_detector.append(anomaly_rl)\n",
    "\n",
    "\n",
    "            anomalies.append(anomalies_for_detector)\n",
    "        \n",
    "        return anomalies\n",
    "\n",
    "    def visualize(self, anomalies):\n",
    "        \"\"\"\n",
    "        Visualize the obstacle field and ray paths\n",
    "        \"\"\"\n",
    "        plt.figure(figsize=(10, 6))\n",
    "        plt.xticks(range(0, 14)) \n",
    "        plt.yticks(range(0, 12))\n",
    "        plt.imshow(self.v_obst, cmap=\"gray_r\", origin=\"lower\", extent=[0, self.lx, 0, self.lz])\n",
    "        plt.colorbar(label=\"Obstacle Presence\")\n",
    "        plt.title(\"Obstacle Field and Detector Rays\")\n",
    "        plt.xlabel(\"X\")\n",
    "        plt.ylabel(\"Z\")\n",
    "        \n",
    "        for x in range(1, 13):  # Detectors at x=1 to x=11\n",
    "            # Plot left-to-right diagonal rays\n",
    "            anomaly = anomalies[x - 1]\n",
    "\n",
    "            if x==1:\n",
    "                plt.plot([x, self.lx], [0, self.lx - x], \"r--\", label=\"Ray (L-R)\" if x == 1 else \"\")\n",
    "                plt.text(x, -1, f\"{anomaly[0]:.2f}\", color=\"red\", fontsize=8, ha=\"center\")\n",
    "\n",
    "\n",
    "\n",
    "            elif x==12:\n",
    "                plt.plot([x, 0], [0, x], \"b--\", label=\"Ray (R-L)\" if x == 2 else \"\")\n",
    "                plt.text(x, -1.5, f\"{anomaly[0]:.2f}\", color=\"blue\", fontsize=8, ha=\"center\")\n",
    "                plt.grid(which='both', axis='both')\n",
    "\n",
    "\n",
    "            else:\n",
    "                plt.plot([x, 0], [0, x], \"b--\", label=\"Ray (R-L)\" if x == 2 else \"\")\n",
    "                plt.plot([x, self.lx], [0, self.lx - x], \"r--\", label=\"Ray (L-R)\" if x == 1 else \"\")\n",
    "\n",
    "                plt.text(x, -1, f\"{anomaly[0]:.2f}\", color=\"red\", fontsize=8, ha=\"center\")\n",
    "                plt.text(x, -1.5, f\"{anomaly[1]:.2f}\", color=\"blue\", fontsize=8, ha=\"center\")\n",
    "\n",
    "\n",
    "            \n",
    "            # Annotate anomalies\n",
    "            \n",
    "\n",
    "            # if anomaly:\n",
    "            #     # plt.text(x, 0.5, f\"{sum(anomaly):.2f}\", color=\"blue\", fontsize=8, ha=\"center\")\n",
    "\n",
    "            #     plt.text(x, 0.5, f\"{anomaly[0]:.2f}\", color=\"red\", fontsize=8, ha=\"center\")\n",
    "\n",
    "\n",
    "        plt.legend()\n",
    "        plt.show()\n",
    "\n",
    "\n",
    "\n",
    "\n",
    "    def count_obstacles_on_path(self, x_start, z_start, direction):\n",
    "        \"\"\"\n",
    "        Count obstacles diagonally intersected along the ray path,\n",
    "        considering the obstacle is represented at the top-left of its grid square.\n",
    "        \n",
    "        Args:\n",
    "        - x_start (int): Starting x-coordinate (column).\n",
    "        - z_start (int): Starting z-coordinate (row).\n",
    "        - direction (int): +1 for right diagonal, -1 for left diagonal.\n",
    "        \n",
    "        Returns:\n",
    "        - n_obst (int): Number of diagonally intersected obstacles.\n",
    "        \"\"\"\n",
    "        n_obst = 0\n",
    "        x, z = x_start, z_start\n",
    "        lcl = True  # Flag to handle corner/edge transitions\n",
    "        \n",
    "        \n",
    "\n",
    "        while 0 <= x < self.lx and 0 <= z < self.lz:\n",
    "            # Check if the current cell contains an obstacle\n",
    "            if self.v_obst[z, x] == 1 and direction == 1:\n",
    "                n_obst += 1\n",
    "            \n",
    "            elif self.v_obst[z, x-1] == 1 and direction == -1:\n",
    "                n_obst += 1\n",
    "            \n",
    "            # print(self.v_obst[z, x]) if x_start==7 and direction==-1 else True\n",
    "            # Check the next diagonal cell\n",
    "            next_x = x + direction\n",
    "            next_z = z + 1\n",
    "\n",
    "            if direction == -1 and 0 <= next_x  < self.lx and 0 <= next_z < self.lz:\n",
    "                if self.v_obst[next_z, next_x-1] == 1 and lcl:\n",
    "                    n_obst += 1\n",
    "                    lcl = False  # Prevent double-counting\n",
    "\n",
    "            elif direction == 1 and 0 <= next_x < self.lx and 0 <= next_z < self.lz:\n",
    "                if self.v_obst[next_z, next_x] == 1 and lcl:\n",
    "                    n_obst += 1\n",
    "                    lcl = False\n",
    "\n",
    "            # Reset `lcl` flag once moving past the transition\n",
    "            # if not lcl and not (0 <= next_x < self.lx and 0 <= next_z < self.lz and self.v_obst[next_z, next_x] == 1):\n",
    "            #     lcl = True\n",
    "\n",
    "            # Move diagonally\n",
    "            x += direction\n",
    "            z += 1\n",
    "\n",
    "        return n_obst\n",
    "    \n",
    "    def build_g_matrix(self):\n",
    "        \"\"\"\n",
    "        Build the G matrix representing ray paths through the system\n",
    "        \"\"\"\n",
    "        num_voxels = self.lx * self.lz\n",
    "        G = np.zeros((self.ndetectors, num_voxels))  # Initialize G matrix\n",
    "        detector_index = 0\n",
    "\n",
    "        # Create a grid for visualization\n",
    "        grid = np.zeros((self.lz, self.lx))\n",
    "\n",
    "\n",
    "            \n",
    "        for x_start in range(1, self.lx):\n",
    "            # Left-to-right diagonal (\\)\n",
    "            x, z = x_start, 0\n",
    "            while 0 <= x < self.lx and 0 <= z < self.lz:\n",
    "                voxel_index = z * self.lx + x\n",
    "                G[detector_index, voxel_index] = np.sqrt(2)  # Update G matrix\n",
    "                grid[z, x] += np.sqrt(2)  # Update grid for visualization\n",
    "                # self.visualize_ray(grid, f\"Ray {detector_index + 1}: Left-to-right diagonal from x={x_start}\")\n",
    "                x += 1\n",
    "                z += 1\n",
    "            detector_index += 1\n",
    "\n",
    "        for x_start in range(1, self.lx):\n",
    "\n",
    "\n",
    "            # Right-to-left diagonal (/)\n",
    "            x, z = x_start, 0\n",
    "            while 0 <= x < self.lx and 0 <= z < self.lz:\n",
    "                voxel_index = z * self.lx + x\n",
    "                G[detector_index, voxel_index] = np.sqrt(2)  # Update G matrix\n",
    "                grid[z, x] += np.sqrt(2)  # Update grid for visualization\n",
    "                # self.visualize_ray(grid, f\"Ray {detector_index + 1}: Right-to-left diagonal from x={x_start}\")\n",
    "                x -= 1\n",
    "                z += 1\n",
    "            detector_index += 1\n",
    "\n",
    "        return G\n"
   ]
  },
  {
   "cell_type": "code",
   "execution_count": 30,
   "metadata": {},
   "outputs": [
    {
     "data": {
      "text/plain": [
       "<Figure size 1000x600 with 2 Axes>"
      ]
     },
     "metadata": {},
     "output_type": "display_data"
    }
   ],
   "source": [
    "sim = tomography_sim()\n",
    "sim.generate_obstacles()\n",
    "anomalies = sim.calculate_anomalies()\n",
    "sim.visualize(anomalies)\n",
    "# print(sim.v_obst)"
   ]
  },
  {
   "cell_type": "code",
   "execution_count": 31,
   "metadata": {},
   "outputs": [
    {
     "name": "stdout",
     "output_type": "stream",
     "text": [
      "[[0.03263569759322539], [0.03263569759322539, 0], [0.03263569759322539, 0], [0.02175713172881693, 0], [0.010878565864408465, 0], [0, 0.010878565864408465], [0, 0.02175713172881693], [0, 0.03263569759322539], [0, 0.03263569759322539], [0, 0.03263569759322539], [0, 0.03263569759322539], [0.03263569759322539]]\n"
     ]
    }
   ],
   "source": [
    "print(anomalies)"
   ]
  },
  {
   "cell_type": "code",
   "execution_count": 32,
   "metadata": {},
   "outputs": [
    {
     "name": "stdout",
     "output_type": "stream",
     "text": [
      "[[0.03263569759322539, 0], [0.03263569759322539, 0], [0.03263569759322539, 0], [0.02175713172881693, 0], [0.010878565864408465, 0], [0, 0.010878565864408465], [0, 0.02175713172881693], [0, 0.03263569759322539], [0, 0.03263569759322539], [0, 0.03263569759322539], [0, 0.03263569759322539], [0, 0.03263569759322539]]\n"
     ]
    }
   ],
   "source": [
    "#adjust data to be regular\n",
    "anomalies[0] = [anomalies[0][0],0]\n",
    "anomalies[-1] = [0,anomalies[-1][0]]\n",
    "print(anomalies)"
   ]
  },
  {
   "cell_type": "code",
   "execution_count": 33,
   "metadata": {},
   "outputs": [
    {
     "name": "stdout",
     "output_type": "stream",
     "text": [
      "[0.03263569759322539, 0.03263569759322539, 0.03263569759322539, 0.02175713172881693, 0.010878565864408465, 0, 0, 0, 0, 0, 0, 0, 0, 0, 0, 0, 0, 0.010878565864408465, 0.02175713172881693, 0.03263569759322539, 0.03263569759322539, 0.03263569759322539, 0.03263569759322539, 0.03263569759322539]\n",
      "len of anomalies flat -> 24\n"
     ]
    }
   ],
   "source": [
    "# flat tmat\n",
    "flat_anomalies = []\n",
    "for i in anomalies:\n",
    "    flat_anomalies.append(i[0])\n",
    "for i in anomalies:\n",
    "    flat_anomalies.append(i[1])\n",
    "print(flat_anomalies)\n",
    "print(\"len of anomalies flat ->\",len(flat_anomalies))"
   ]
  },
  {
   "cell_type": "code",
   "execution_count": 34,
   "metadata": {},
   "outputs": [],
   "source": [
    "# noisy anomalies\n",
    "random_variables = np.random.normal(loc=0, scale= 1/(18*np.sqrt(24))* np.linalg.norm(flat_anomalies),size=(24,1) ) # correct noise from Ioanna #24 is the size \n",
    "flat_random_variables = random_variables.flatten()\n",
    "# print(flat_random_variables)\n",
    "noisy_anom = flat_random_variables + flat_anomalies"
   ]
  },
  {
   "cell_type": "code",
   "execution_count": 35,
   "metadata": {},
   "outputs": [
    {
     "name": "stdout",
     "output_type": "stream",
     "text": [
      "[[0.         1.41421356 0.         ... 0.         1.41421356 0.        ]\n",
      " [0.         0.         1.41421356 ... 0.         0.         1.41421356]\n",
      " [0.         0.         0.         ... 0.         0.         0.        ]\n",
      " ...\n",
      " [0.         0.         0.         ... 0.         0.         0.        ]\n",
      " [0.         0.         0.         ... 0.         0.         0.        ]\n",
      " [0.         0.         0.         ... 0.         0.         0.        ]]\n"
     ]
    }
   ],
   "source": [
    "g_matrix = sim.build_g_matrix()\n",
    "print (g_matrix)"
   ]
  },
  {
   "cell_type": "code",
   "execution_count": 36,
   "metadata": {},
   "outputs": [],
   "source": [
    "def tikhonov(G, d_obs, epsilon):\n",
    "    identity_matrix = np.identity(G.shape[1])\n",
    "    x = np.linalg.inv(G.T @ G + epsilon*epsilon * identity_matrix) @ G.T @ d_obs\n",
    "    return x\n",
    "\n",
    "def function(g, vec_, t, epsilon):\n",
    "    gs = np.matmul(g, vec_)\n",
    "    # gs = gs.transpose()\n",
    "    diff = np.linalg.norm(t - gs)\n",
    "    this_sq = diff**2\n",
    "    result = this_sq + epsilon**2 * np.linalg.norm(tikhonov(g,t,epsilon))**2 \n",
    "    return result"
   ]
  },
  {
   "cell_type": "code",
   "execution_count": 37,
   "metadata": {},
   "outputs": [
    {
     "name": "stdout",
     "output_type": "stream",
     "text": [
      "24\n",
      "143\n",
      "24\n"
     ]
    }
   ],
   "source": [
    "epsilons = np.logspace(-7, 1, 1000, dtype = 'f')\n",
    "# epsilons = np.linspace(1e-6,2,1000)\n",
    "# epsilons = np.sqrt(epsilons)\n",
    "min = 1.\n",
    "epsilon_res = 100\n",
    "list_l=[]\n",
    "\n",
    "print(len(g_matrix))\n",
    "print(len(g_matrix[0]))\n",
    "\n",
    "noisy_vec = noisy_anom.tolist()\n",
    "print(len(noisy_vec))\n",
    "\n",
    "\n",
    "for e in epsilons:\n",
    "    vec =  tikhonov(g_matrix, noisy_anom, e)\n",
    "    lcl = function(g_matrix,vec,noisy_anom,e)\n",
    "    list_l.append(lcl)\n",
    "    if lcl < min:\n",
    "        min = lcl\n",
    "        epsilon_res = e\n"
   ]
  },
  {
   "cell_type": "code",
   "execution_count": 38,
   "metadata": {},
   "outputs": [
    {
     "name": "stdout",
     "output_type": "stream",
     "text": [
      "1.846147e-05 hereeeeeeeeeeeeeeee\n"
     ]
    },
    {
     "data": {
      "text/plain": [
       "<Figure size 640x480 with 1 Axes>"
      ]
     },
     "metadata": {},
     "output_type": "display_data"
    }
   ],
   "source": [
    "plt.plot(epsilons,list_l)\n",
    "inversion_result_noisy = tikhonov(g_matrix, noisy_anom, epsilon_res)\n",
    "\n",
    "print(epsilon_res,\"hereeeeeeeeeeeeeeee\")\n",
    "plt.plot(epsilons, list_l, label='Data')\n",
    "plt.xscale('log')  # Set x-axis to log scale\n",
    "\n",
    "# Minimum point\n",
    "min_x = epsilon_res\n",
    "min_y =min\n",
    "plt.axvline(x=min_x, color='r', linestyle='--', label=f'Minimum at x={min_x:.4f}')\n",
    "plt.scatter(min_x, min_y, color='r')  # Marker for minimum point\n",
    "\n",
    "# Legend\n",
    "plt.legend()\n",
    "\n",
    "# Show plot\n",
    "plt.show()"
   ]
  },
  {
   "cell_type": "code",
   "execution_count": 39,
   "metadata": {},
   "outputs": [
    {
     "data": {
      "text/plain": [
       "<Figure size 1000x800 with 2 Axes>"
      ]
     },
     "metadata": {},
     "output_type": "display_data"
    }
   ],
   "source": [
    "m = inversion_result_noisy.reshape(11,13)\n",
    "\n",
    "plt.figure(figsize=(10, 8))\n",
    "sns.heatmap(m, cmap='inferno')  # Empty string for no numbers\n",
    "plt.title('Heatmap of Matrix')\n",
    "plt.xlabel('X-axis')\n",
    "plt.ylabel('Z-axis')\n",
    "plt.show()"
   ]
  },
  {
   "cell_type": "code",
   "execution_count": 40,
   "metadata": {},
   "outputs": [
    {
     "data": {
      "text/plain": [
       "<Figure size 1000x600 with 2 Axes>"
      ]
     },
     "metadata": {},
     "output_type": "display_data"
    }
   ],
   "source": [
    "sim = tomography_sim()\n",
    "sim.generate_obstacles(\"delta\")\n",
    "anomalies = sim.calculate_anomalies()\n",
    "sim.visualize(anomalies)"
   ]
  },
  {
   "cell_type": "code",
   "execution_count": 41,
   "metadata": {},
   "outputs": [
    {
     "name": "stdout",
     "output_type": "stream",
     "text": [
      "epsilon used -> 1.3189005e-05\n"
     ]
    },
    {
     "data": {
      "text/plain": [
       "<Figure size 640x480 with 1 Axes>"
      ]
     },
     "metadata": {},
     "output_type": "display_data"
    }
   ],
   "source": [
    "anomalies[0] = [anomalies[0][0],0]\n",
    "anomalies[-1] = [0,anomalies[-1][0]]\n",
    "\n",
    "flat_anomalies = []\n",
    "\n",
    "for i in anomalies:\n",
    "    flat_anomalies.append(i[0])\n",
    "for i in anomalies:\n",
    "    flat_anomalies.append(i[1])\n",
    "\n",
    "epsilons = np.logspace(-7, 1, 10000, dtype = 'f')\n",
    "# epsilons = np.linspace(1e-6,2,1000)\n",
    "\n",
    "min = 1.\n",
    "epsilon_res = 100 # variable to get a the ideal epsilon\n",
    "list_l=[]\n",
    "\n",
    "for e in epsilons:\n",
    "    vec =  tikhonov(g_matrix, flat_anomalies, e)\n",
    "    lcl = function(g_matrix,vec,flat_anomalies,e)\n",
    "    list_l.append(lcl)\n",
    "    if lcl < min:\n",
    "        min = lcl\n",
    "        epsilon_res = e    \n",
    "\n",
    "plt.plot(epsilons,list_l)\n",
    "inversion_result_noisy = tikhonov(g_matrix, flat_anomalies, epsilon_res)\n",
    "\n",
    "print(\"epsilon used ->\",epsilon_res)\n",
    "plt.plot(epsilons, list_l, label='Data')\n",
    "plt.xscale('log')  # Set x-axis to log scale\n",
    "\n",
    "# Minimum point\n",
    "min_x = epsilon_res\n",
    "min_y =min\n",
    "plt.axvline(x=min_x, color='r', linestyle='--', label=f'Minimum at x={min_x:.7f}')\n",
    "plt.scatter(min_x, min_y, color='r')  # Marker for minimum point\n",
    "\n",
    "# Legend\n",
    "plt.legend()\n",
    "\n",
    "# Show plot\n",
    "plt.show()"
   ]
  },
  {
   "cell_type": "code",
   "execution_count": 42,
   "metadata": {},
   "outputs": [
    {
     "data": {
      "text/plain": [
       "<Figure size 1000x800 with 2 Axes>"
      ]
     },
     "metadata": {},
     "output_type": "display_data"
    }
   ],
   "source": [
    "m = inversion_result_noisy.reshape(11,13)\n",
    "\n",
    "plt.figure(figsize=(10, 8))\n",
    "sns.heatmap(m, cmap='plasma')  # Empty string for no numbers\n",
    "plt.title('Heatmap of Matrix')\n",
    "plt.xlabel('X-axis')\n",
    "plt.ylabel('Z-axis')\n",
    "plt.show()"
   ]
  },
  {
   "cell_type": "code",
   "execution_count": null,
   "metadata": {},
   "outputs": [],
   "source": []
  }
 ],
 "metadata": {
  "kernelspec": {
   "display_name": "Python 3",
   "language": "python",
   "name": "python3"
  },
  "language_info": {
   "codemirror_mode": {
    "name": "ipython",
    "version": 3
   },
   "file_extension": ".py",
   "mimetype": "text/x-python",
   "name": "python",
   "nbconvert_exporter": "python",
   "pygments_lexer": "ipython3",
   "version": "3.10.12"
  }
 },
 "nbformat": 4,
 "nbformat_minor": 2
}
