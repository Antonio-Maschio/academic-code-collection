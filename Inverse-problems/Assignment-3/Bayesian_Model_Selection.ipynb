{
 "cells": [
  {
   "cell_type": "markdown",
   "metadata": {},
   "source": [
    "# Assignment 3 \n",
    "António Maschio"
   ]
  },
  {
   "cell_type": "markdown",
   "metadata": {},
   "source": [
    "# Question 1: Joint Prior\n",
    "The joint prior can be expressed as:\n",
    "\n",
    "$ p_{prior}(\\textbf{d}, \\textbf{m}, k) = p_{k}(k) \\cdot p_d(d) \\cdot p_{m|k}(m|k)$\n",
    "\n",
    "The two models are to be a priori equally acceptable. Therefore,   the expression for $p_{k}(k)$:\n",
    "\n",
    "$p_{k}(k) = \\begin{cases} 1/2 \\quad \\text{for k=1} \\\\ 1/2 \\quad \\text{for k=2} \\end{cases}$\n",
    "\n",
    "The noise for each gravity measurement is uniformly distributed in $[-\\sigma,\\sigma]$  :\n",
    "\n",
    "$p_d(d) = \\left( \\dfrac{1}{2\\sigma} \\right)^2 $\n",
    "\n",
    "Finally for $p_{m|k}(m|k)$ values are also uniformly distributed in range $[-500,0]$, for each model parameter.\n",
    "\n",
    "$\n",
    "p_{m|k}(m|k) = \\begin{cases} 500^{-1} & \\text{for } k=1 \\\\ 500^{-2}  & \\text{for } k=2 \\end{cases}\n",
    "$\n",
    "\n",
    "Combining all:\n",
    "\n",
    "$\n",
    "p_{prior} = \\begin{cases} \n",
    "\\dfrac{1}{2} \\cdot \\left( \\dfrac{1}{2\\sigma} \\right)^2 \\cdot 500^{-1} & \\text{for } k=1 \\quad \\Delta \\rho \\in [-500,0] \\quad d \\in [d-\\sigma,d+\\sigma]^2 \\\\ \n",
    "\\dfrac{1}{2} \\cdot \\left( \\dfrac{1}{2\\sigma} \\right)^2 \\cdot 500^{-2} & \\text{for } k=2 \\quad \\Delta \\rho^{(n)} \\in [-500,0]^2 \\quad d \\in [d-\\sigma,d+\\sigma]^2\n",
    "\\end{cases}\n",
    "$\n"
   ]
  },
  {
   "cell_type": "markdown",
   "metadata": {},
   "source": [
    "# Question 2: Joint posterior\n"
   ]
  },
  {
   "cell_type": "markdown",
   "metadata": {},
   "source": [
    "## Equations for k=1\n",
    "\n",
    "$ \\Delta g = 2 \\pi G \\Delta \\rho ((b_{top}-h_{top})-(b_{bot}-h_{bot})) $\n",
    "\n",
    "defining this auxiliar:\n",
    "\n",
    "$\\alpha _n = (b_{top}-h_{top})-(b_{bot}-h_{bot})$ for cylinder n\n",
    "\n",
    "$\\Delta \\rho = \\dfrac {\\Delta g}{2 \\pi G \\alpha} $"
   ]
  },
  {
   "cell_type": "code",
   "execution_count": 1,
   "metadata": {},
   "outputs": [],
   "source": [
    "import numpy as np\n",
    "import matplotlib.pyplot as plt\n",
    "from scipy.constants import G"
   ]
  },
  {
   "cell_type": "code",
   "execution_count": 2,
   "metadata": {},
   "outputs": [],
   "source": [
    "def get_b_conaltura(altura):\n",
    "    return np.sqrt(altura**2 + 4700**2)\n",
    "\n",
    "def compute_a(ht, hb):\n",
    "    return ((get_b_conaltura(ht) - ht) - (get_b_conaltura(hb) - hb))\n",
    "\n",
    "def model_1(g,ht,hb):\n",
    "    cte = 2*np.pi* G\n",
    "    var = g / (compute_a(ht, hb))\n",
    "    return var/cte"
   ]
  },
  {
   "cell_type": "code",
   "execution_count": 3,
   "metadata": {},
   "outputs": [],
   "source": [
    "# Data\n",
    "\n",
    "# k==1 param\n",
    "p1_ht = 1000\n",
    "p1_hb = 5400\n",
    "\n",
    "p2_ht = p1_ht-500\n",
    "p2_hb = p1_hb-500\n",
    "\n",
    "# k==2 param\n",
    "p1_ht1 = 1000\n",
    "p1_hb1 = 4000\n",
    "p1_ht2 = 4000\n",
    "p1_hb2 = 5400\n",
    "\n",
    "p2_ht1 = p1_ht1 - 500\n",
    "p2_hb1 = p1_hb1 - 500\n",
    "p2_ht2 = p1_ht2 - 500\n",
    "p2_hb2 = p1_hb2 - 500\n",
    "\n",
    "#measuremenststgazoufnadsidjom\n",
    "\n",
    "p1_measure = -0.00021453\n",
    "p2_measure = -0.00024499\n",
    "\n",
    "sigma = 0.00001"
   ]
  },
  {
   "cell_type": "code",
   "execution_count": 4,
   "metadata": {},
   "outputs": [
    {
     "name": "stdout",
     "output_type": "stream",
     "text": [
      "r1\n",
      "-238.34343149125507\n",
      "-261.64988350232977\n",
      "\n",
      "\n",
      "r2\n",
      "-239.79382782844485\n",
      "-260.20268163741076\n"
     ]
    }
   ],
   "source": [
    "# Results k=1\n",
    "\n",
    "r1_max = model_1(p1_measure+sigma,p1_ht,p1_hb)\n",
    "r1_min = model_1(p1_measure-sigma,p1_ht,p1_hb)\n",
    "\n",
    "r2_max = model_1(p2_measure+sigma,p2_ht,p2_hb)\n",
    "r2_min = model_1(p2_measure-sigma,p2_ht,p2_hb)\n",
    "\n",
    "print(\"r1\")\n",
    "print(r1_max)\n",
    "print(r1_min)\n",
    "print(\"\\n\")\n",
    "print(\"r2\")\n",
    "print(r2_max)\n",
    "print(r2_min)"
   ]
  },
  {
   "cell_type": "markdown",
   "metadata": {},
   "source": [
    "The r2 results will be the ones used."
   ]
  },
  {
   "cell_type": "code",
   "execution_count": 5,
   "metadata": {},
   "outputs": [
    {
     "data": {
      "image/png": "[encoded data removed]",
      "text/plain": [
       "<Figure size 640x480 with 1 Axes>"
      ]
     },
     "metadata": {},
     "output_type": "display_data"
    }
   ],
   "source": [
    "x_values = np.array([r1_min, r1_max, r2_min, r2_max])\n",
    "y_values = np.zeros(len(x_values))\n",
    "# Create the plot\n",
    "plt.figure()\n",
    "\n",
    "prior = np.linspace(-500,0)\n",
    "zeros = np.zeros(len(prior))\n",
    "# Plot the line with markers\n",
    "plt.plot(x_values, y_values, marker='x', linestyle='-', color='b', label='posterior')\n",
    "plt.plot(prior, zeros, linestyle=':', color='black')\n",
    "plt.gca().axes.yaxis.set_visible(False)\n",
    "# Set the title and labels\n",
    "plt.title(\"Results for k=1\")\n",
    "plt.xlabel(\"$\\Delta \\\\rho$\")\n",
    "plt.xlim((-300,-200))\n",
    "# Show the plot\n",
    "plt.legend()\n",
    "plt.show()\n",
    "\n"
   ]
  },
  {
   "cell_type": "markdown",
   "metadata": {},
   "source": [
    "$p_{prior} = \\dfrac{1}{2} \\cdot \\left( \\dfrac{1}{2\\sigma} \\right)^2 \\cdot 500^{-1} \\quad \\text{for } k=1, \\quad \\Delta \\rho \\in [-260.20, -239.79] \\quad d \\in [d - \\sigma, d + \\sigma]^2 $\n"
   ]
  },
  {
   "cell_type": "markdown",
   "metadata": {},
   "source": [
    "## Equations for k=2\n",
    "$ \\Delta g = 2 \\, \\pi \\, G \\, (\\Delta \\rho _1 \\cdot \\alpha _1 + \\Delta \\rho _2 \\cdot \\alpha _2 ) $\n",
    "\n",
    "$\\alpha _n = (b_{top}-h_{top})-(b_{bot}-h_{bot})$ for the n cylinder\n",
    "\n",
    "$ \\Delta \\rho _1 = \\dfrac {\\Delta g - 2 \\, \\pi \\, G \\, \\alpha _2 \\cdot \\Delta \\rho _2 }{2 \\, \\pi \\, G \\, \\alpha _1} $"
   ]
  },
  {
   "cell_type": "code",
   "execution_count": 6,
   "metadata": {},
   "outputs": [
    {
     "data": {
      "image/png": "[encoded data removed]",
      "text/plain": [
       "<Figure size 640x480 with 1 Axes>"
      ]
     },
     "metadata": {},
     "output_type": "display_data"
    }
   ],
   "source": [
    "def get_b_conaltura(altura):\n",
    "    return np.sqrt(altura**2 + 4700**2)\n",
    "\n",
    "def compute_a(ht, hb):\n",
    "    return ((get_b_conaltura(ht) - ht) - (get_b_conaltura(hb) - hb))\n",
    "\n",
    "\n",
    "def model_2(g,ht1,hb1,ht2,hb2, r):\n",
    "    cte = 2*np.pi*G\n",
    "\n",
    "    ft = g/(cte * compute_a(ht1,hb1))\n",
    "\n",
    "    up =(cte * compute_a(ht2,hb2) * r)\n",
    "    down = cte * compute_a(ht1,hb1)\n",
    "    st = up/down\n",
    "\n",
    "    return ft - st\n",
    "\n",
    "x = np.linspace(-500,0)\n",
    "\n",
    "# Plot d1 lines (for reference)\n",
    "plt.plot(x,model_2(p1_measure+sigma,p1_ht1,p1_hb1,p1_ht2,p1_hb2,x), color='violet',label='d1+sigma')\n",
    "plt.plot(x,model_2(p1_measure-sigma,p1_ht1,p1_hb1,p1_ht2,p1_hb2,x), color='lime',label='d1-sigma')\n",
    "\n",
    "y_upper = model_2(p2_measure+sigma,p2_ht1,p2_hb1,p2_ht2,p2_hb2,x)\n",
    "y_lower = model_2(p2_measure-sigma,p2_ht1,p2_hb1,p2_ht2,p2_hb2,x)\n",
    "\n",
    "\n",
    "plt.plot(x, y_upper, color='navy',label='d2+sigma')\n",
    "plt.plot(x, y_lower, color='r',label='d2-sigma')\n",
    "\n",
    "\n",
    "plt.fill_between(x, y_upper, y_lower, color='teal', alpha=0.7, label='posterior')\n",
    "\n",
    "plt.title(\"Results for k=2\")\n",
    "\n",
    "# plt.hlines(-300,-500,0)\n",
    "\n",
    "plt.xlabel(\"$\\Delta \\\\rho_2$\")\n",
    "plt.ylabel(\"$\\Delta \\\\rho_1$\")\n",
    "\n",
    "plt.legend()\n",
    "plt.show()\n"
   ]
  },
  {
   "cell_type": "markdown",
   "metadata": {},
   "source": [
    "Results\n",
    "\n",
    "\n",
    "For \\($\\Delta \\rho_2$\\):\n",
    "\n",
    "$\\Delta \\rho_2 \\in [0, 500]$\n",
    "\n",
    "\n",
    " For \\($\\Delta \\rho_1$\\):\n",
    "\n",
    " \n",
    "$\\dfrac{\\Delta g_2^{\\text{min}} - 2 \\pi G \\alpha_2 \\Delta \\rho_2}{2 \\pi G \\alpha_1} \n",
    "< \\Delta \\rho_1 < \n",
    "\\dfrac{\\Delta g_2^{\\text{max}} - 2 \\pi G \\alpha_2 \\Delta \\rho_2}{2 \\pi G \\alpha_1}$"
   ]
  },
  {
   "cell_type": "markdown",
   "metadata": {},
   "source": [
    "Applying the new relation to the expression:\n",
    "\n",
    "$p_{prior} = \\dfrac{1}{2} \\cdot \\left( \\dfrac{1}{2\\sigma} \\right)^2 \\cdot 500^{-2} \\quad \\text{for } k=2 \\quad d \\in [d - \\sigma, d + \\sigma]^2 \\quad \\text{and} \\quad \\Delta \\rho _2 \\in [-500,0] \\quad \\text{and} \\quad  \\dfrac{\\Delta g_2^{min} - 2 \\, \\pi \\, G \\, \\alpha _2 \\Delta \\rho _2} {2 \\, \\pi \\, G \\alpha _1} <\\Delta \\rho _1< \\dfrac{\\Delta g_2^{max} - 2 \\, \\pi \\, G \\, \\alpha _2 \\Delta \\rho _2} {2 \\, \\pi \\, G \\alpha _1}$\n"
   ]
  },
  {
   "cell_type": "markdown",
   "metadata": {},
   "source": [
    "Below I calculated the actual values."
   ]
  },
  {
   "cell_type": "code",
   "execution_count": 7,
   "metadata": {},
   "outputs": [
    {
     "name": "stdout",
     "output_type": "stream",
     "text": [
      "-300.2194802538625\n",
      "-325.77116162361125\n",
      "0.25199002398280174\n",
      "0.25199002398280174\n"
     ]
    }
   ],
   "source": [
    "#calculations of values for boundaries\n",
    "def first_term_aux(g,ht1,hb1,ht2,hb2, r):\n",
    "    cte = 2*np.pi*G\n",
    "\n",
    "    ft = g/(cte * compute_a(ht1,hb1))\n",
    "\n",
    "    return ft\n",
    "\n",
    "y_upper = first_term_aux(p2_measure+sigma,p2_ht1,p2_hb1,p2_ht2,p2_hb2,x)\n",
    "y_lower = first_term_aux(p2_measure-sigma,p2_ht1,p2_hb1,p2_ht2,p2_hb2,x)\n",
    "\n",
    "print(y_upper)\n",
    "print(y_lower)\n",
    "\n",
    "#calculations for boundaries\n",
    "\n",
    "def second_term_aux(g,ht1,hb1,ht2,hb2, r=1):\n",
    "    cte = 2*np.pi*G\n",
    "\n",
    "    up =(cte * compute_a(ht2,hb2) * r)\n",
    "    down = cte * compute_a(ht1,hb1)\n",
    "    st = up/down\n",
    "\n",
    "    return st\n",
    "\n",
    "y_upper = second_term_aux(p2_measure+sigma,p2_ht1,p2_hb1,p2_ht2,p2_hb2)\n",
    "y_lower = second_term_aux(p2_measure-sigma,p2_ht1,p2_hb1,p2_ht2,p2_hb2)\n",
    "\n",
    "print(y_upper)\n",
    "print(y_lower)"
   ]
  },
  {
   "cell_type": "markdown",
   "metadata": {},
   "source": [
    "$-325,77 - 0,25 \\Delta \\rho _2 < \\Delta \\rho _1 < -300,22 - 0,25 \\Delta \\rho _2 $"
   ]
  },
  {
   "cell_type": "markdown",
   "metadata": {},
   "source": [
    "# Question 3\n",
    "## Integrate posterior distribution\n"
   ]
  },
  {
   "cell_type": "code",
   "execution_count": 8,
   "metadata": {},
   "outputs": [
    {
     "name": "stdout",
     "output_type": "stream",
     "text": [
      "51024999.99999999 k=1 intergral result\n",
      "63879203.42437177 k=2 intergral result\n"
     ]
    }
   ],
   "source": [
    "# Auxiliar calculation to get integral values\n",
    "x = 20.41/2/500/4/sigma/sigma\n",
    "print(x,\"k=1 intergral result\") \n",
    "cte = 2*np.pi*G\n",
    "alpha1 = compute_a(p2_ht1,p2_hb1)\n",
    "x2= 1/4/sigma/alpha1/cte/500\n",
    "print(x2,\"k=2 intergral result\") "
   ]
  },
  {
   "cell_type": "markdown",
   "metadata": {},
   "source": [
    "First it was calculated for k=1:\n",
    "$ \\begin{gather}\\int P_{post}(m,1) dm   \\Rightarrow \\int_{-260.20}^{-239.79} \\dfrac{1}{2}\\dfrac{1}{4\\sigma^2}\\dfrac{1}{500} dm   = 20,41 \\cdot 2,5 \\times 10^6 = 5.10 \\times 10^7 \\end{gather}$\n",
    "\n",
    "Then for k=2:\n",
    "\n",
    "$ \\begin{gather}\\int_{\\Delta P} P_{post}(m,2) dm   \\Rightarrow \\int_{-500}^{0} \\int_{\\frac{\\Delta g_2^{min} - 2 \\, \\pi \\, G \\, \\alpha _2 \\Delta \\rho _2} {2 \\, \\pi \\, G \\alpha _1} } ^{\\frac{\\Delta g_2^{max} - 2 \\, \\pi \\, G \\, \\alpha _2 \\Delta \\rho _2} {2 \\, \\pi \\, G \\alpha _1}}\\dfrac{1}{2}\\dfrac{1}{4 \\sigma ^2}\\dfrac{1}{500^2} dm   = \\frac{1}{2} \\frac{1}{4\\sigma^2} \\frac{1}{500^2} 500 \\cdot \\frac{2\\sigma}{ 2 \\, \\pi \\, G \\alpha _1} = 6.39 \\times 10^7 \\end{gather}$"
   ]
  },
  {
   "cell_type": "markdown",
   "metadata": {},
   "source": [
    "With the results above we can deduce that the model with k=2 has the highest posterior probability."
   ]
  }
 ],
 "metadata": {
  "kernelspec": {
   "display_name": "Python 3",
   "language": "python",
   "name": "python3"
  },
  "language_info": {
   "codemirror_mode": {
    "name": "ipython",
    "version": 3
   },
   "file_extension": ".py",
   "mimetype": "text/x-python",
   "name": "python",
   "nbconvert_exporter": "python",
   "pygments_lexer": "ipython3",
   "version": "3.10.12"
  }
 },
 "nbformat": 4,
 "nbformat_minor": 2
}
